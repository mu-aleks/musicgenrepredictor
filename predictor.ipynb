{
 "metadata": {
  "language_info": {
   "codemirror_mode": {
    "name": "ipython",
    "version": 3
   },
   "file_extension": ".py",
   "mimetype": "text/x-python",
   "name": "python",
   "nbconvert_exporter": "python",
   "pygments_lexer": "ipython3",
   "version": "3.9.4"
  },
  "orig_nbformat": 2,
  "kernelspec": {
   "name": "python394jvsc74a57bd07bee95b4618227e40441c3c08fa35b5d191d62be905f76c7228b06d8a89b9a10",
   "display_name": "Python 3.9.4 64-bit"
  },
  "metadata": {
   "interpreter": {
    "hash": "7bee95b4618227e40441c3c08fa35b5d191d62be905f76c7228b06d8a89b9a10"
   }
  }
 },
 "nbformat": 4,
 "nbformat_minor": 2,
 "cells": [
  {
   "source": [
    "This exercise involves making predictions into what genre of music different people listen to basing on a couple of variables (their age and gender)"
   ],
   "cell_type": "markdown",
   "metadata": {}
  },
  {
   "cell_type": "code",
   "execution_count": 119,
   "metadata": {},
   "outputs": [],
   "source": [
    "# importing libraries\n",
    "\n",
    "import pandas as pd\n",
    "from sklearn.tree import DecisionTreeClassifier\n",
    "from sklearn.model_selection import train_test_split\n",
    "from sklearn.metrics import accuracy_score"
   ]
  },
  {
   "cell_type": "code",
   "execution_count": 120,
   "metadata": {},
   "outputs": [],
   "source": [
    "# loading the dataset\n",
    "data = pd.read_csv('music.csv')\n",
    "data\n",
    "\n",
    "#data preparation into the input and output variables\n",
    "X = data.drop(columns= 'genre')\n",
    "y = data['genre']\n"
   ]
  },
  {
   "source": [
    "For qualitative data such as what we've got in the music data set, we are going to use  a classification tree."
   ],
   "cell_type": "markdown",
   "metadata": {}
  },
  {
   "cell_type": "code",
   "execution_count": 197,
   "metadata": {},
   "outputs": [
    {
     "output_type": "execute_result",
     "data": {
      "text/plain": [
       "DecisionTreeClassifier()"
      ]
     },
     "metadata": {},
     "execution_count": 197
    }
   ],
   "source": [
    "# Split the data set into the train and test datasets which we will feed into the model for trainingn and testing\n",
    "\n",
    "(X_train,X_test,y_train,y_test)= train_test_split(X, y, train_size=0.9)\n",
    "model = DecisionTreeClassifier()\n",
    "\n",
    "# we fit the parameters into the model \n",
    "\n",
    "model.fit(X_train,y_train)\n"
   ]
  },
  {
   "cell_type": "code",
   "execution_count": 198,
   "metadata": {},
   "outputs": [
    {
     "output_type": "execute_result",
     "data": {
      "text/plain": [
       "0.6666666666666666"
      ]
     },
     "metadata": {},
     "execution_count": 198
    }
   ],
   "source": [
    "# makingf preditions using the test data set\n",
    "predictions = model.predict(X_test)\n",
    "\n",
    "# evaluating the model\n",
    "accuracy_score(y_test,predictions)"
   ]
  }
 ]
}